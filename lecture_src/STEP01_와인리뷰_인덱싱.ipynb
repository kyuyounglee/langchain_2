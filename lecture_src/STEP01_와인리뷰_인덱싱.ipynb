{
 "cells": [
  {
   "cell_type": "code",
   "execution_count": 1,
   "id": "d10bae09",
   "metadata": {},
   "outputs": [
    {
     "data": {
      "text/plain": [
       "True"
      ]
     },
     "execution_count": 1,
     "metadata": {},
     "output_type": "execute_result"
    }
   ],
   "source": [
    "from dotenv import load_dotenv\n",
    "\n",
    "load_dotenv()"
   ]
  },
  {
   "cell_type": "code",
   "execution_count": 2,
   "id": "688be631",
   "metadata": {},
   "outputs": [],
   "source": [
    "import os\n",
    "\n",
    "OPENAI_API_KEY = os.getenv(\"OPENAI_API_KEY\")\n",
    "OPENAI_LLM_MODEL = os.getenv(\"OPENAI_LLM_MODEL\")\n",
    "OPENAI_EMBEDDING_MODEL = os.getenv(\"OPENAI_EMBEDDING_MODEL\")\n",
    "PINECONE_API_KEY = os.getenv(\"PINECONE_API_KEY\")\n",
    "PINECONE_ENVIRONMENT = os.getenv(\"PINECONE_ENVIRONMENT\")\n",
    "PINECONE_INDEX_REGION = os.getenv(\"PINECONE_INDEX_REGION\")\n",
    "PINECONE_INDEX_CLOUD = os.getenv(\"PINECONE_INDEX_CLOUD\")\n",
    "PINECONE_INDEX_NAME = os.getenv(\"PINECONE_INDEX_NAME\")\n",
    "PINECONE_INDEX_METRIC = os.getenv(\"PINECONE_INDEX_METRIC\")\n",
    "PINECONE_INDEX_DIMENSION = int(os.getenv(\"PINECONE_INDEX_DIMENSION\"))\n"
   ]
  },
  {
   "cell_type": "code",
   "execution_count": null,
   "id": "a7a5b1d1",
   "metadata": {},
   "outputs": [],
   "source": [
    "from pinecone import Pinecone, ServerlessSpec\n",
    "\n",
    "pc = Pinecone(\n",
    "    api_key=PINECONE_API_KEY\n",
    ")\n",
    "\n",
    "pc.create_index(\n",
    "    name=PINECONE_INDEX_NAME,\n",
    "    dimension=PINECONE_INDEX_DIMENSION,\n",
    "    metric=PINECONE_INDEX_METRIC,\n",
    "    spec=ServerlessSpec(\n",
    "        region=PINECONE_INDEX_REGION,\n",
    "        cloud=PINECONE_INDEX_CLOUD\n",
    "    )\n",
    ")"
   ]
  },
  {
   "cell_type": "code",
   "execution_count": 6,
   "id": "0b9c7674",
   "metadata": {},
   "outputs": [
    {
     "data": {
      "text/plain": [
       "{'dimension': 1536,\n",
       " 'index_fullness': 0.0,\n",
       " 'metric': 'cosine',\n",
       " 'namespaces': {},\n",
       " 'total_vector_count': 0,\n",
       " 'vector_type': 'dense'}"
      ]
     },
     "execution_count": 6,
     "metadata": {},
     "output_type": "execute_result"
    }
   ],
   "source": [
    "wine_index = pc.Index(PINECONE_INDEX_NAME)\n",
    "wine_index.describe_index_stats()"
   ]
  },
  {
   "cell_type": "code",
   "execution_count": 7,
   "id": "58296cca",
   "metadata": {},
   "outputs": [
    {
     "data": {
      "text/plain": [
       "Document(metadata={'source': './winemag-data-130k-v2.csv', 'row': 0}, page_content=\": 0\\ncountry: Italy\\ndescription: Aromas include tropical fruit, broom, brimstone and dried herb. The palate isn't overly expressive, offering unripened apple, citrus and dried sage alongside brisk acidity.\\ndesignation: Vulkà Bianco\\npoints: 87\\nprice: \\nprovince: Sicily & Sardinia\\nregion_1: Etna\\nregion_2: \\ntaster_name: Kerin O’Keefe\\ntaster_twitter_handle: @kerinokeefe\\ntitle: Nicosia 2013 Vulkà Bianco  (Etna)\\nvariety: White Blend\\nwinery: Nicosia\")"
      ]
     },
     "execution_count": 7,
     "metadata": {},
     "output_type": "execute_result"
    }
   ],
   "source": [
    "from langchain_community.document_loaders import CSVLoader\n",
    "\n",
    "loader = CSVLoader(\"./winemag-data-130k-v2.csv\", encoding=\"utf-8\")\n",
    "docs = loader.load()\n",
    "\n",
    "docs[0]"
   ]
  },
  {
   "cell_type": "code",
   "execution_count": 9,
   "id": "1ebedabf",
   "metadata": {},
   "outputs": [
    {
     "name": "stdout",
     "output_type": "stream",
     "text": [
      "129971\n",
      "1115\n"
     ]
    }
   ],
   "source": [
    "print(len(docs))\n",
    "print(max(len(doc.page_content) for doc in docs))"
   ]
  },
  {
   "cell_type": "code",
   "execution_count": 10,
   "id": "4c47cc1f",
   "metadata": {},
   "outputs": [],
   "source": [
    "from langchain_openai import OpenAIEmbeddings\n",
    "\n",
    "embedding = OpenAIEmbeddings(model=OPENAI_EMBEDDING_MODEL, openai_api_key=OPENAI_API_KEY)"
   ]
  },
  {
   "cell_type": "code",
   "execution_count": null,
   "id": "168d5909",
   "metadata": {},
   "outputs": [
    {
     "name": "stdout",
     "output_type": "stream",
     "text": [
      "0~299 documents indexed\n",
      "300~599 documents indexed\n",
      "600~899 documents indexed\n",
      "900~1199 documents indexed\n",
      "1200~1499 documents indexed\n",
      "1500~1799 documents indexed\n",
      "1800~2099 documents indexed\n",
      "2100~2399 documents indexed\n",
      "2400~2699 documents indexed\n",
      "2700~2999 documents indexed\n",
      "3000~3299 documents indexed\n",
      "3300~3599 documents indexed\n",
      "3600~3899 documents indexed\n",
      "3900~4199 documents indexed\n",
      "4200~4499 documents indexed\n",
      "4500~4799 documents indexed\n",
      "4800~5099 documents indexed\n",
      "5100~5399 documents indexed\n"
     ]
    }
   ],
   "source": [
    "from langchain_pinecone import PineconeVectorStore\n",
    "\n",
    "BATCH_SIZE = 300\n",
    "for i in range(0, len(docs), BATCH_SIZE):\n",
    "    batch = docs[i:i + BATCH_SIZE]\n",
    "    try:\n",
    "        PineconeVectorStore.from_documents(\n",
    "            documents=batch,\n",
    "            index_name=PINECONE_INDEX_NAME,\n",
    "            embedding=embedding\n",
    "        )\n",
    "\n",
    "        print(f\"{i}~{i+len(batch)-1} documents indexed\")\n",
    "    except Exception as e:\n",
    "        print(f\"Error indexing documents {i}~{i+len(batch)-1}: {e}\")\n"
   ]
  }
 ],
 "metadata": {
  "kernelspec": {
   "display_name": "langchain_part_2",
   "language": "python",
   "name": "python3"
  },
  "language_info": {
   "codemirror_mode": {
    "name": "ipython",
    "version": 3
   },
   "file_extension": ".py",
   "mimetype": "text/x-python",
   "name": "python",
   "nbconvert_exporter": "python",
   "pygments_lexer": "ipython3",
   "version": "3.12.10"
  }
 },
 "nbformat": 4,
 "nbformat_minor": 5
}
