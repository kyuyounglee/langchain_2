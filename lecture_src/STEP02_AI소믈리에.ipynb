{
 "cells": [
  {
   "cell_type": "code",
   "execution_count": 1,
   "id": "58126c63",
   "metadata": {},
   "outputs": [
    {
     "data": {
      "text/plain": [
       "True"
      ]
     },
     "execution_count": 1,
     "metadata": {},
     "output_type": "execute_result"
    }
   ],
   "source": [
    "from dotenv import load_dotenv\n",
    "\n",
    "load_dotenv()"
   ]
  },
  {
   "cell_type": "code",
   "execution_count": 2,
   "id": "618789a5",
   "metadata": {},
   "outputs": [],
   "source": [
    "import os\n",
    "\n",
    "OPENAI_API_KEY = os.getenv(\"OPENAI_API_KEY\")\n",
    "OPENAI_LLM_MODEL = os.getenv(\"OPENAI_LLM_MODEL\")\n",
    "OPENAI_EMBEDDING_MODEL = os.getenv(\"OPENAI_EMBEDDING_MODEL\")\n",
    "PINECONE_API_KEY = os.getenv(\"PINECONE_API_KEY\")\n",
    "PINECONE_ENVIRONMENT = os.getenv(\"PINECONE_ENVIRONMENT\")\n",
    "PINECONE_INDEX_REGION = os.getenv(\"PINECONE_INDEX_REGION\")\n",
    "PINECONE_INDEX_CLOUD = os.getenv(\"PINECONE_INDEX_CLOUD\")\n",
    "PINECONE_INDEX_NAME = os.getenv(\"PINECONE_INDEX_NAME\")\n",
    "PINECONE_INDEX_METRIC = os.getenv(\"PINECONE_INDEX_METRIC\")\n",
    "PINECONE_INDEX_DIMENSION = int(os.getenv(\"PINECONE_INDEX_DIMENSION\"))\n"
   ]
  },
  {
   "cell_type": "code",
   "execution_count": 10,
   "id": "481d3bcb",
   "metadata": {},
   "outputs": [],
   "source": [
    "from langchain_openai import ChatOpenAI\n",
    "from langchain_openai import OpenAIEmbeddings\n",
    "from langchain_pinecone import PineconeVectorStore\n",
    "\n",
    "llm = ChatOpenAI(model=OPENAI_LLM_MODEL, temperature=0.2, openai_api_key=OPENAI_API_KEY)\n",
    "embeddings = OpenAIEmbeddings(model=OPENAI_EMBEDDING_MODEL, openai_api_key=OPENAI_API_KEY)\n",
    "vector_store = PineconeVectorStore(\n",
    "    index_name=PINECONE_INDEX_NAME,\n",
    "    embedding=embeddings,\n",
    "    pinecone_api_key=PINECONE_API_KEY\n",
    ")"
   ]
  },
  {
   "cell_type": "code",
   "execution_count": 6,
   "id": "ae9b4914",
   "metadata": {},
   "outputs": [],
   "source": [
    "from langchain_core.prompts import ChatPromptTemplate, HumanMessagePromptTemplate\n",
    "from langchain_core.output_parsers import StrOutputParser\n",
    "\n",
    "def recommand_dishs(query):\n",
    "    prompt = ChatPromptTemplate.from_messages([\n",
    "        (\"system\", \"\"\"\n",
    "\n",
    "            Persona:\n",
    "\n",
    "            As a sommelier, I possess an extensive knowledge of wines, including grape varieties, regions, tasting notes, and food pairings. I am highly skilled in recommending wines based on individual preferences, specific occasions, and particular dishes. My expertise includes understanding wine production methods, flavor profiles, and how they interact with different foods. I also stay updated on the latest trends in the wine world and am capable of suggesting wines that are both traditional and adventurous. I strive to provide personalized, thoughtful recommendations to enhance the dining experience.\n",
    "\n",
    "            Role:\n",
    "\n",
    "            1. Wine & Food Pairing: I offer detailed wine recommendations that pair harmoniously with specific dishes, balancing flavors and enhancing the overall dining experience. Whether it's a simple snack or an elaborate meal, I suggest wines that complement the texture, taste, and style of the food.\n",
    "            2. Wine Selection Guidance: For various occasions (celebrations, formal dinners, casual gatherings), I assist in selecting wines that suit the event and align with the preferences of the individuals involved.\n",
    "            3. Wine Tasting Expertise: I can help identify wines based on tasting notes like acidity, tannin levels, sweetness, and body, providing insights into what makes a wine unique.\n",
    "            4. Explaining Wine Terminology: I simplify complex wine terminology, making it easy for everyone to understand grape varieties, regions, and tasting profiles.\n",
    "            5. Educational Role: I inform and educate about different wine regions, production techniques, and wine styles, fostering an appreciation for the diversity of wines available.\n",
    "\n",
    "            Examples:\n",
    "\n",
    "            - Wine Pairing Example (Dish First):\n",
    "            For a grilled butter garlic shrimp dish, I would recommend a Sauvignon Blanc or a Chardonnay with crisp acidity to cut through the richness of the butter and enhance the seafood’s flavors.\n",
    "\n",
    "            - Wine Pairing Example (Wine First):  \n",
    "            If you're enjoying a Cabernet Sauvignon, its bold tannins and dark fruit flavors pair wonderfully with grilled steak or lamb. The richness of the meat complements the intensity of the wine.\n",
    "\n",
    "            - Wine Pairing Example (Wine First):\n",
    "            A Pinot Noir, known for its lighter body and subtle flavors of red berries, is perfect alongside roasted duck or mushroom risotto, as its earthy notes complement the dishes.\n",
    "\n",
    "            - Occasion-Based Selection:\n",
    "            If you are celebrating a romantic anniversary dinner, I would suggest a classic Champagne or an elegant Pinot Noir, perfect for a special and intimate evening.\n",
    "\n",
    "            - Guiding by Taste Preferences:\n",
    "            If you enjoy wines with bold flavors and intense tannins, a Cabernet Sauvignon from Napa Valley would suit your palate perfectly. For something lighter and fruitier, a Riesling could be a delightful alternative, pairing well with spicy dishes or fresh salads.\n",
    "\n",
    "        \"\"\")\n",
    "    ])\n",
    "\n",
    "    template = [{\"text\": query[\"text\"]}]\n",
    "    if query[\"image_urls\"]:\n",
    "        template += [{\"image_url\": url} for url in query[\"image_urls\"]]\n",
    "\n",
    "    prompt += HumanMessagePromptTemplate.from_template(template)\n",
    "\n",
    "    chain = prompt | llm | StrOutputParser()\n",
    "    return chain.invoke({\"text\": query[\"text\"], \"image_urls\": query[\"image_urls\"]})"
   ]
  },
  {
   "cell_type": "code",
   "execution_count": 7,
   "id": "b11d5b3a",
   "metadata": {},
   "outputs": [
    {
     "name": "stdout",
     "output_type": "stream",
     "text": [
      "Chateau Musar는 레바논의 유명한 와인으로, 복합적인 맛과 향을 지니고 있습니다. 이 와인은 일반적으로 진한 과일 맛, 스파이스, 그리고 약간의 흙내음이 특징입니다. \n",
      "\n",
      "이 와인에 어울리는 요리로는 다음을 추천합니다:\n",
      "\n",
      "1. **양고기 스튜**: 양고기의 풍미가 Chateau Musar의 복합적인 맛과 잘 어우러집니다.\n",
      "2. **그릴에 구운 야채와 퀴노아 샐러드**: 구운 야채의 스모키한 맛이 와인의 깊은 맛을 강조합니다.\n",
      "3. **버섯 리조또**: 버섯의 풍미가 와인의 earthy notes와 잘 맞아떨어집니다.\n",
      "4. **스파이스가 들어간 인도 커리**: 와인의 스파이스와 커리의 향신료가 조화를 이룹니다.\n",
      "\n",
      "이 요리들은 Chateau Musar의 풍부한 맛을 더욱 돋보이게 해줄 것입니다.\n"
     ]
    }
   ],
   "source": [
    "response = recommand_dishs({\n",
    "    \"text\": \"이 와인에 어울리는 요리를 추천해줘\",\n",
    "    \"image_urls\": [\n",
    "        \"https://images.vivino.com/thumbs/pGBPuKapTwGBpeJmdq7uTw_pb_x600.png\"\n",
    "    ]\n",
    "})\n",
    "\n",
    "print(response)"
   ]
  },
  {
   "cell_type": "code",
   "execution_count": 8,
   "id": "fa1870a4",
   "metadata": {},
   "outputs": [],
   "source": [
    "def describe_dish_flavor(query):\n",
    "    prompt = ChatPromptTemplate.from_messages([\n",
    "        (\"system\", \"\"\"\n",
    "            Persona:\n",
    "            As a flavor analysis system, I am equipped with a deep understanding of food ingredients, cooking methods, and sensory properties such as taste, texture, and aroma. I can assess and break down the flavor profiles of dishes by identifying the dominant tastes (sweet, sour, salty, bitter, umami) as well as subtler elements like spice levels, richness, freshness, and aftertaste. I am able to compare different foods based on their ingredients and cooking techniques, while also considering cultural influences and typical pairings. My goal is to provide a detailed analysis of a dish’s flavor profile to help users better understand what makes it unique or to aid in choosing complementary foods and drinks.\n",
    "\n",
    "            Role:\n",
    "\n",
    "            1. Flavor Identification: I analyze the dominant and secondary flavors of a dish, highlighting key taste elements such as sweetness, acidity, bitterness, saltiness, umami, and the presence of spices or herbs.\n",
    "            2. Texture and Aroma Analysis: Beyond taste, I assess the mouthfeel and aroma of the dish, taking into account how texture (e.g., creamy, crunchy) and scents (e.g., smoky, floral) contribute to the overall experience.\n",
    "            3. Ingredient Breakdown: I evaluate the role each ingredient plays in the dish’s flavor, including their impact on the dish's balance, richness, or intensity.\n",
    "            4. Culinary Influence: I consider the cultural or regional influences that shape the dish, understanding how traditional cooking methods or unique ingredients affect the overall taste.\n",
    "            5. Food and Drink Pairing: Based on the dish's flavor profile, I suggest complementary food or drink pairings that enhance or balance the dish’s qualities.\n",
    "\n",
    "            Examples:\n",
    "\n",
    "            - Dish Flavor Breakdown:\n",
    "            For a butter garlic shrimp, I identify the richness from the butter, the pungent aroma of garlic, and the subtle sweetness of the shrimp. The dish balances richness with a touch of saltiness, and the soft, tender texture of the shrimp is complemented by the slight crispness from grilling.\n",
    "\n",
    "            - Texture and Aroma Analysis:\n",
    "            A creamy mushroom risotto has a smooth, velvety texture due to the creamy broth and butter. The earthy aroma from the mushrooms enhances the umami flavor, while a sprinkle of Parmesan adds a savory touch with a mild sharpness.\n",
    "\n",
    "            - Ingredient Role Assessment:\n",
    "            In a spicy Thai curry, the coconut milk provides a rich, creamy base, while the lemongrass and lime add freshness and citrus notes. The chilies bring the heat, and the balance between sweet, sour, and spicy elements creates a dynamic flavor profile.\n",
    "\n",
    "            - Cultural Influence:\n",
    "            A traditional Italian margherita pizza draws on the classic combination of fresh tomatoes, mozzarella, and basil. The simplicity of the ingredients allows the flavors to shine, with the tanginess of the tomato sauce balancing the richness of the cheese and the freshness of the basil.\n",
    "\n",
    "            - Food Pairing Example:\n",
    "            For a rich chocolate cake, I would recommend a sweet dessert wine like Port to complement the bitterness of the chocolate, or a light espresso to contrast the sweetness and enhance the richness of the dessert.\n",
    "\n",
    "        \"\"\")\n",
    "    ])\n",
    "\n",
    "    template = [{\"text\": query[\"text\"]}]\n",
    "    if query[\"image_urls\"]:\n",
    "        template += [{\"image_url\": url} for url in query[\"image_urls\"]]\n",
    "\n",
    "    prompt += HumanMessagePromptTemplate.from_template(template)\n",
    "\n",
    "    chain = prompt | llm | StrOutputParser()\n",
    "    return chain.invoke({\"text\": query[\"text\"], \"image_urls\": query[\"image_urls\"]})"
   ]
  },
  {
   "cell_type": "code",
   "execution_count": 9,
   "id": "acc73133",
   "metadata": {},
   "outputs": [
    {
     "name": "stdout",
     "output_type": "stream",
     "text": [
      "이 요리는 달콤하고 짭짤한 맛의 글레이즈가 입혀진 연어와 부드러운 흰 쌀밥, 아삭한 채소가 조화를 이루며, 향긋한 파의 향이 더해져 풍부하고 균형 잡힌 맛을 제공합니다.\n"
     ]
    }
   ],
   "source": [
    "response = describe_dish_flavor({\n",
    "    \"text\": \"이 요리의 이름과 맛과 향과 같은 특징을 한 문장으로 설명해줘.\",\n",
    "    \"image_urls\": [\n",
    "        \"https://media01.stockfood.com/largepreviews/MzkyOTA0Mjky/12674332-Sweet-soy-salmon-with-rice-and-bok-choy-China.jpg\"\n",
    "    ]\n",
    "})\n",
    "\n",
    "print(response)"
   ]
  },
  {
   "cell_type": "code",
   "execution_count": 11,
   "id": "2f283cfc",
   "metadata": {},
   "outputs": [],
   "source": [
    "def search_wine(dish_flavor):\n",
    "    results = vector_store.similarity_search(\n",
    "        dish_flavor,\n",
    "        k=2\n",
    "    )\n",
    "\n",
    "    return {\n",
    "        \"dish_flavor\": dish_flavor,\n",
    "        \"wine_reviews\": \"\\n\\n\".join([doc.page_content for doc in results])\n",
    "    }"
   ]
  },
  {
   "cell_type": "code",
   "execution_count": 13,
   "id": "4370789c",
   "metadata": {},
   "outputs": [
    {
     "name": "stdout",
     "output_type": "stream",
     "text": [
      "달콤한 맛을 가진 와인\n",
      ": 11089\n",
      "country: US\n",
      "description: Ripe hay, vanilla, and apricot mark the nose; deep orange flavors with cinnamon spice notes and a very smooth mouthfeel are the already promising attributes of this infant. All the right elements are there, and in good balance. Best cellared for three to five years.\n",
      "designation: \n",
      "points: 93\n",
      "price: 75.0\n",
      "province: California\n",
      "region_1: Napa Valley\n",
      "region_2: Napa\n",
      "taster_name: \n",
      "taster_twitter_handle: \n",
      "title: Dolce 1998 White (Napa Valley)\n",
      "variety: White Blend\n",
      "winery: Dolce\n",
      "\n",
      ": 6319\n",
      "country: US\n",
      "description: Aromas of candy corn, spice and almond butter are followed by full-bodied, tropical-fruit flavors that show a pleasing sense of richness and intensity. It's a delicious example of the variety, with a lingering finish.\n",
      "designation: Barrel Fermented\n",
      "points: 91\n",
      "price: 25.0\n",
      "province: Washington\n",
      "region_1: Columbia Valley (WA)\n",
      "region_2: Columbia Valley\n",
      "taster_name: Sean P. Sullivan\n",
      "taster_twitter_handle: @wawinereport\n",
      "title: Ashan 2016 Barrel Fermented Chardonnay (Columbia Valley (WA))\n",
      "variety: Chardonnay\n",
      "winery: Ashan\n"
     ]
    }
   ],
   "source": [
    "from langchain_core.runnables import RunnableLambda\n",
    "\n",
    "runnable = RunnableLambda(search_wine)\n",
    "response = runnable.invoke(\"달콤한 맛을 가진 와인\")\n",
    "\n",
    "print(response[\"dish_flavor\"])\n",
    "print(response[\"wine_reviews\"])"
   ]
  },
  {
   "cell_type": "code",
   "execution_count": 14,
   "id": "42c3e9e3",
   "metadata": {},
   "outputs": [
    {
     "name": "stdout",
     "output_type": "stream",
     "text": [
      "이 요리는 달콤하고 짭짤한 맛이 조화롭게 어우러진 글레이즈드 연어와 부드러운 밥, 아삭한 채소가 함께 제공되어 풍부한 식감과 신선한 향을 느낄 수 있는 한 그릇입니다. \n",
      "\n",
      ": 34010\n",
      "country: France\n",
      "description: A bouquet of summer desserts—strawberry soup, apricot pie and lemon meringue pie—pull you into the glass. Although not quite as nuanced, the palate delivers enticing apricot and wet stone notes. The unctuous palate and noticeable residual sugar will partner well with fish in an Asian-fusion preparation.\n",
      "designation: Herrenweg\n",
      "points: 91\n",
      "price: 22.0\n",
      "province: Alsace\n",
      "region_1: Alsace\n",
      "region_2: \n",
      "taster_name: \n",
      "taster_twitter_handle: \n",
      "title: Domaine Ehrhart 2006 Herrenweg Riesling (Alsace)\n",
      "variety: Riesling\n",
      "winery: Domaine Ehrhart\n",
      "\n",
      ": 39707\n",
      "country: Germany\n",
      "description: Savory spice and smoke tones accent fresh lemon, grapefruit and quince notes on this delicate off-dry Riesling. Easy drinking and widely appealing, it's nicely concentrated on the palate with a brisk, blossomy finish.\n",
      "designation: \n",
      "points: 87\n",
      "price: 14.0\n",
      "province: Mosel\n",
      "region_1: \n",
      "region_2: \n",
      "taster_name: Anna Lee C. Iijima\n",
      "taster_twitter_handle: \n",
      "title: Cupcake 2011 Riesling (Mosel)\n",
      "variety: Riesling\n",
      "winery: Cupcake\n"
     ]
    }
   ],
   "source": [
    "runnable1 = RunnableLambda(describe_dish_flavor)\n",
    "runnable2 = RunnableLambda(search_wine)\n",
    "\n",
    "chain = runnable1 | runnable2\n",
    "\n",
    "response = chain.invoke({\n",
    "    \"text\": \"이 요리의 이름과 맛과 향과 같은 특징을 한 문장으로 설명해줘.\",\n",
    "    \"image_urls\": [\n",
    "        \"https://media01.stockfood.com/largepreviews/MzkyOTA0Mjky/12674332-Sweet-soy-salmon-with-rice-and-bok-choy-China.jpg\"\n",
    "    ]\n",
    "})  \n",
    "\n",
    "print(response[\"dish_flavor\"], \"\\n\")\n",
    "print(response[\"wine_reviews\"])"
   ]
  },
  {
   "cell_type": "code",
   "execution_count": 15,
   "id": "4dc0f778",
   "metadata": {},
   "outputs": [],
   "source": [
    "def recommand_wine(query):\n",
    "    prompt = ChatPromptTemplate.from_messages([\n",
    "        (\"system\", \"\"\"\n",
    "            Persona:\n",
    "            As a sommelier, I possess an extensive knowledge of wines, including grape varieties, regions, tasting notes, and food pairings. I am highly skilled in recommending wines based on individual preferences, specific occasions, and particular dishes. My expertise includes understanding wine production methods, flavor profiles, and how they interact with different foods. I also stay updated on the latest trends in the wine world and am capable of suggesting wines that are both traditional and adventurous. I strive to provide personalized, thoughtful recommendations to enhance the dining experience.\n",
    "            Role:\n",
    "            1. Wine & Food Pairing: I offer detailed wine recommendations that pair harmoniously with specific dishes, balancing flavors and enhancing the overall dining experience. Whether it's a simple snack or an elaborate meal, I suggest wines that complement the texture, taste, and style of the food.\n",
    "            2. Wine Selection Guidance: For various occasions (celebrations, formal dinners, casual gatherings), I assist in selecting wines that suit the event and align with the preferences of the individuals involved.\n",
    "            3. Wine Tasting Expertise: I can help identify wines based on tasting notes like acidity, tannin levels, sweetness, and body, providing insights into what makes a wine unique.\n",
    "            4. Explaining Wine Terminology: I simplify complex wine terminology, making it easy for everyone to understand grape varieties, regions, and tasting profiles.\n",
    "            5. Educational Role: I inform and educate about different wine regions, production techniques, and wine styles, fostering an appreciation for the diversity of wines available.\n",
    "            Examples:\n",
    "            - Wine Pairing Example (Dish First):\n",
    "            For a grilled butter garlic shrimp dish, I would recommend a Sauvignon Blanc or a Chardonnay with crisp acidity to cut through the richness of the butter and enhance the seafood’s flavors.\n",
    "            - Wine Pairing Example (Wine First):  \n",
    "            If you're enjoying a Cabernet Sauvignon, its bold tannins and dark fruit flavors pair wonderfully with grilled steak or lamb. The richness of the meat complements the intensity of the wine.\n",
    "            - Wine Pairing Example (Wine First):\n",
    "            A Pinot Noir, known for its lighter body and subtle flavors of red berries, is perfect alongside roasted duck or mushroom risotto, as its earthy notes complement the dishes.\n",
    "            - Occasion-Based Selection:\n",
    "            If you are celebrating a romantic anniversary dinner, I would suggest a classic Champagne or an elegant Pinot Noir, perfect for a special and intimate evening.\n",
    "            - Guiding by Taste Preferences:\n",
    "            If you enjoy wines with bold flavors and intense tannins, a Cabernet Sauvignon from Napa Valley would suit your palate perfectly. For something lighter and fruitier, a Riesling could be a delightful alternative, pairing well with spicy dishes or fresh salads.\n",
    "        \"\"\"),\n",
    "        (\"human\", \"\"\"\n",
    "            와인 페어링 추천에 아래의 요리의 풍미와 와인 리뷰를 참고해 한글로 답변해 주세요요.\n",
    "            요리의 풍미:\n",
    "            {dish_flavor}\n",
    "\n",
    "            와인 리뷰:\n",
    "            {wine_reviews}\n",
    "        \"\"\")\n",
    "    ])\n",
    "\n",
    "    chain = prompt | llm | StrOutputParser()\n",
    "\n",
    "    return chain.invoke(query)"
   ]
  },
  {
   "cell_type": "code",
   "execution_count": 16,
   "id": "8a907e04",
   "metadata": {},
   "outputs": [
    {
     "name": "stdout",
     "output_type": "stream",
     "text": [
      "이 요리는 달콤하고 짭짤한 맛의 글레이즈가 입혀진 연어와 부드러운 밥, 아삭한 청경채, 그리고 향긋한 파의 풍미가 조화를 이루고 있습니다. 이러한 풍미를 고려할 때, 두 가지 리슬링 와인을 추천드립니다.\n",
      "\n",
      "1. **Domaine Ehrhart 2006 Herrenweg Riesling (Alsace)**  \n",
      "   - **국가**: 프랑스  \n",
      "   - **설명**: 여름 디저트의 향이 가득한 이 와인은 딸기 수프, 살구 파이, 레몬 머랭 파이의 향이 느껴집니다. 입 안에서는 유혹적인 살구와 젖은 돌의 노트가 느껴지며, 부드러운 질감과 눈에 띄는 잔여 당도가 아시아 퓨전 요리와 잘 어울립니다.  \n",
      "   - **포인트**: 91  \n",
      "   - **가격**: 22.0  \n",
      "\n",
      "   이 리슬링은 연어의 달콤한 글레이즈와 잘 어우러져 풍미를 더욱 강조해 줄 것입니다.\n",
      "\n",
      "2. **Coquelicot 2007 Estate Riesling (Santa Ynez Valley)**  \n",
      "   - **국가**: 미국  \n",
      "   - **설명**: 독일 카비넷 스타일로 만들어진 이 리슬링은 산도가 깔끔하고 매끄럽습니다. 복숭아, 파인애플, 정원화, 그리고 석유의 미네랄 노트가 조화를 이루며, 팬에 튀긴 송어와 잘 어울립니다.  \n",
      "   - **포인트**: 88  \n",
      "   - **가격**: 22.0  \n",
      "\n",
      "   이 와인은 연어와 함께 즐기기에 적합하며, 아삭한 청경채와의 조화도 기대할 수 있습니다.\n",
      "\n",
      "이 두 가지 리슬링은 요리의 풍미와 잘 어울리며, 각각의 특성이 요리를 더욱 돋보이게 할 것입니다. 즐거운 식사 되세요!\n"
     ]
    }
   ],
   "source": [
    "runnable1 = RunnableLambda(describe_dish_flavor)\n",
    "runnable2 = RunnableLambda(search_wine)\n",
    "runnable3 = RunnableLambda(recommand_wine)\n",
    "\n",
    "chain = runnable1 | runnable2 | runnable3\n",
    "\n",
    "response = chain.invoke({\n",
    "    \"text\": \"이 요리의 이름과 맛과 향과 같은 특징을 한 문장으로 설명해줘.\",\n",
    "    \"image_urls\": [\n",
    "        \"https://media01.stockfood.com/largepreviews/MzkyOTA0Mjky/12674332-Sweet-soy-salmon-with-rice-and-bok-choy-China.jpg\"\n",
    "    ]\n",
    "})\n",
    "\n",
    "print(response)"
   ]
  }
 ],
 "metadata": {
  "kernelspec": {
   "display_name": "langchain_part_2",
   "language": "python",
   "name": "python3"
  },
  "language_info": {
   "codemirror_mode": {
    "name": "ipython",
    "version": 3
   },
   "file_extension": ".py",
   "mimetype": "text/x-python",
   "name": "python",
   "nbconvert_exporter": "python",
   "pygments_lexer": "ipython3",
   "version": "3.12.10"
  }
 },
 "nbformat": 4,
 "nbformat_minor": 5
}
