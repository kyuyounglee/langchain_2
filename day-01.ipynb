{
 "cells": [
  {
   "cell_type": "code",
   "execution_count": null,
   "id": "bce57531",
   "metadata": {},
   "outputs": [],
   "source": [
    "%pip install python-dotenv langchain langchain-openai langchain-pinecone pinecone-client langchain-community"
   ]
  },
  {
   "cell_type": "code",
   "execution_count": 2,
   "id": "d40e7bba",
   "metadata": {},
   "outputs": [],
   "source": [
    "from dotenv import load_dotenv\n",
    "import os\n",
    "\n",
    "load_dotenv()\n",
    "\n",
    "PINECONE_API_KEY = os.getenv(\"PINECONE_API_KEY\")\n",
    "OPENAI_API_KEY = os.getenv(\"OPENAI_API_KEY\")\n"
   ]
  },
  {
   "cell_type": "code",
   "execution_count": 5,
   "id": "e0bf760e",
   "metadata": {},
   "outputs": [
    {
     "data": {
      "text/plain": [
       "{\n",
       "    \"name\": \"langchain-demo\",\n",
       "    \"metric\": \"cosine\",\n",
       "    \"host\": \"langchain-demo-szyj9c0.svc.aped-4627-b74a.pinecone.io\",\n",
       "    \"spec\": {\n",
       "        \"serverless\": {\n",
       "            \"cloud\": \"aws\",\n",
       "            \"region\": \"us-east-1\"\n",
       "        }\n",
       "    },\n",
       "    \"status\": {\n",
       "        \"ready\": true,\n",
       "        \"state\": \"Ready\"\n",
       "    },\n",
       "    \"vector_type\": \"dense\",\n",
       "    \"dimension\": 1536,\n",
       "    \"deletion_protection\": \"disabled\",\n",
       "    \"tags\": null\n",
       "}"
      ]
     },
     "execution_count": 5,
     "metadata": {},
     "output_type": "execute_result"
    }
   ],
   "source": [
    "from pinecone import Pinecone, ServerlessSpec\n",
    "\n",
    "pc = Pinecone(api_key=PINECONE_API_KEY)\n",
    "pc.create_index(\n",
    "    name=\"langchain-demo\",\n",
    "    dimension=1536,  # Dimension of the OpenAI embeddings\n",
    "    metric=\"cosine\",  # Similarity metric\n",
    "    spec=ServerlessSpec(\n",
    "        cloud=\"aws\",\n",
    "        region=\"us-east-1\"\n",
    "    )\n",
    ")"
   ]
  },
  {
   "cell_type": "code",
   "execution_count": 6,
   "id": "4f2b92f5",
   "metadata": {},
   "outputs": [],
   "source": [
    "from langchain_openai import OpenAIEmbeddings\n",
    "\n",
    "embedding = OpenAIEmbeddings(model=\"text-embedding-3-small\", api_key=OPENAI_API_KEY)"
   ]
  },
  {
   "cell_type": "code",
   "execution_count": 7,
   "id": "01af3d3b",
   "metadata": {},
   "outputs": [
    {
     "data": {
      "text/plain": [
       "['5aab0776-0b59-477a-a57c-ca6f30997507',\n",
       " '26d7fae2-7740-43c7-88e1-1d5de17b1810',\n",
       " 'e704ec5e-f1d0-4aed-9b9d-76de63080ff1']"
      ]
     },
     "execution_count": 7,
     "metadata": {},
     "output_type": "execute_result"
    }
   ],
   "source": [
    "from langchain_core.documents import Document\n",
    "from langchain_pinecone import PineconeVectorStore\n",
    "\n",
    "doc1 = Document(page_content=\"Building an exciting new project with LangChain - come check it out!\",\n",
    "                metadata={\"source\": \"tweet\"})\n",
    "doc2 = Document(page_content=\"The weather forecast for tomorrow is cloudy and overcast, with a high of 62 degrees.\",\n",
    "                metadata={\"source\": \"news\"})\n",
    "doc3 = Document(page_content=\"LangGraph is the best framework for building stateful, agentic applications!\",\n",
    "                metadata={\"source\": \"tweet\"})\n",
    "\n",
    "vector_store = PineconeVectorStore(\n",
    "    index_name=\"langchain-demo\",\n",
    "    embedding=embedding\n",
    ")\n",
    "\n",
    "vector_store.add_documents([doc1, doc2, doc3])\n",
    "\n"
   ]
  },
  {
   "cell_type": "code",
   "execution_count": 8,
   "id": "0038072d",
   "metadata": {},
   "outputs": [
    {
     "data": {
      "text/plain": [
       "{'dimension': 1536,\n",
       " 'index_fullness': 0.0,\n",
       " 'metric': 'cosine',\n",
       " 'namespaces': {'': {'vector_count': 3}},\n",
       " 'total_vector_count': 3,\n",
       " 'vector_type': 'dense'}"
      ]
     },
     "execution_count": 8,
     "metadata": {},
     "output_type": "execute_result"
    }
   ],
   "source": [
    "pc.Index(\"langchain-demo\").describe_index_stats()"
   ]
  },
  {
   "cell_type": "code",
   "execution_count": 27,
   "id": "011c1bb0",
   "metadata": {},
   "outputs": [
    {
     "data": {
      "text/plain": [
       "{\n",
       "    \"name\": \"movie-index\",\n",
       "    \"metric\": \"cosine\",\n",
       "    \"host\": \"movie-index-szyj9c0.svc.aped-4627-b74a.pinecone.io\",\n",
       "    \"spec\": {\n",
       "        \"serverless\": {\n",
       "            \"cloud\": \"aws\",\n",
       "            \"region\": \"us-east-1\"\n",
       "        }\n",
       "    },\n",
       "    \"status\": {\n",
       "        \"ready\": true,\n",
       "        \"state\": \"Ready\"\n",
       "    },\n",
       "    \"vector_type\": \"dense\",\n",
       "    \"dimension\": 1536,\n",
       "    \"deletion_protection\": \"disabled\",\n",
       "    \"tags\": null\n",
       "}"
      ]
     },
     "execution_count": 27,
     "metadata": {},
     "output_type": "execute_result"
    }
   ],
   "source": [
    "from pinecone import Pinecone, ServerlessSpec\n",
    "\n",
    "pc = Pinecone(api_key=PINECONE_API_KEY)\n",
    "pc.create_index(\n",
    "    name=\"movie-index\",\n",
    "    dimension=1536,  # Dimension of the OpenAI embeddings\n",
    "    metric=\"cosine\",  # Similarity metric\n",
    "    spec=ServerlessSpec(\n",
    "        cloud=\"aws\",\n",
    "        region=\"us-east-1\"\n",
    "    )\n",
    ")"
   ]
  },
  {
   "cell_type": "code",
   "execution_count": 28,
   "id": "4c3606df",
   "metadata": {},
   "outputs": [
    {
     "data": {
      "text/plain": [
       "{'dimension': 1536,\n",
       " 'index_fullness': 0.0,\n",
       " 'metric': 'cosine',\n",
       " 'namespaces': {},\n",
       " 'total_vector_count': 0,\n",
       " 'vector_type': 'dense'}"
      ]
     },
     "execution_count": 28,
     "metadata": {},
     "output_type": "execute_result"
    }
   ],
   "source": [
    "movie_index = pc.Index(\"movie-index\")\n",
    "movie_index.describe_index_stats()"
   ]
  },
  {
   "cell_type": "code",
   "execution_count": null,
   "id": "18e60a0b",
   "metadata": {},
   "outputs": [],
   "source": [
    "%pip install pandas"
   ]
  },
  {
   "cell_type": "code",
   "execution_count": 29,
   "id": "69be1ae3",
   "metadata": {},
   "outputs": [
    {
     "data": {
      "text/html": [
       "<div>\n",
       "<style scoped>\n",
       "    .dataframe tbody tr th:only-of-type {\n",
       "        vertical-align: middle;\n",
       "    }\n",
       "\n",
       "    .dataframe tbody tr th {\n",
       "        vertical-align: top;\n",
       "    }\n",
       "\n",
       "    .dataframe thead th {\n",
       "        text-align: right;\n",
       "    }\n",
       "</style>\n",
       "<table border=\"1\" class=\"dataframe\">\n",
       "  <thead>\n",
       "    <tr style=\"text-align: right;\">\n",
       "      <th></th>\n",
       "      <th>title</th>\n",
       "      <th>year</th>\n",
       "      <th>genre</th>\n",
       "      <th>director</th>\n",
       "      <th>actors</th>\n",
       "      <th>rating</th>\n",
       "      <th>synopsis</th>\n",
       "    </tr>\n",
       "  </thead>\n",
       "  <tbody>\n",
       "    <tr>\n",
       "      <th>0</th>\n",
       "      <td>응답하라 1988</td>\n",
       "      <td>2015</td>\n",
       "      <td>[드라마, 코미디]</td>\n",
       "      <td>신원호</td>\n",
       "      <td>[혜리, 박보검, 류준열]</td>\n",
       "      <td>9.2</td>\n",
       "      <td>1988년 서울, 쌍문동 이웃들 사이의 우정과 가족애를 그린 드라마.</td>\n",
       "    </tr>\n",
       "    <tr>\n",
       "      <th>1</th>\n",
       "      <td>기생충</td>\n",
       "      <td>2019</td>\n",
       "      <td>[드라마, 스릴러]</td>\n",
       "      <td>봉준호</td>\n",
       "      <td>[송강호, 이선균, 조여정]</td>\n",
       "      <td>8.6</td>\n",
       "      <td>가난한 가족과 부유한 가족 사이 벌어지는 블랙코미디 풍자의 스릴러 영화.</td>\n",
       "    </tr>\n",
       "  </tbody>\n",
       "</table>\n",
       "</div>"
      ],
      "text/plain": [
       "       title  year       genre director           actors  rating  \\\n",
       "0  응답하라 1988  2015  [드라마, 코미디]      신원호   [혜리, 박보검, 류준열]     9.2   \n",
       "1        기생충  2019  [드라마, 스릴러]      봉준호  [송강호, 이선균, 조여정]     8.6   \n",
       "\n",
       "                                   synopsis  \n",
       "0    1988년 서울, 쌍문동 이웃들 사이의 우정과 가족애를 그린 드라마.  \n",
       "1  가난한 가족과 부유한 가족 사이 벌어지는 블랙코미디 풍자의 스릴러 영화.  "
      ]
     },
     "execution_count": 29,
     "metadata": {},
     "output_type": "execute_result"
    }
   ],
   "source": [
    "import pandas as pd\n",
    "\n",
    "data = [\n",
    "    {\n",
    "        \"title\": \"응답하라 1988\",\n",
    "        \"year\": 2015,\n",
    "        \"genre\": [\"드라마\", \"코미디\"],\n",
    "        \"director\": \"신원호\",\n",
    "        \"actors\": [\"혜리\", \"박보검\", \"류준열\"],\n",
    "        \"rating\": 9.2,\n",
    "        \"synopsis\": \"1988년 서울, 쌍문동 이웃들 사이의 우정과 가족애를 그린 드라마.\"\n",
    "    },\n",
    "    {\n",
    "        \"title\": \"기생충\",\n",
    "        \"year\": 2019,\n",
    "        \"genre\": [\"드라마\", \"스릴러\"],\n",
    "        \"director\": \"봉준호\",\n",
    "        \"actors\": [\"송강호\", \"이선균\", \"조여정\"],\n",
    "        \"rating\": 8.6,\n",
    "        \"synopsis\": \"가난한 가족과 부유한 가족 사이 벌어지는 블랙코미디 풍자의 스릴러 영화.\"\n",
    "    }\n",
    "]\n",
    "df = pd.DataFrame(data)\n",
    "df.head(2)"
   ]
  },
  {
   "cell_type": "code",
   "execution_count": 30,
   "id": "dd9c09d0",
   "metadata": {},
   "outputs": [
    {
     "data": {
      "text/plain": [
       "['1988년 서울, 쌍문동 이웃들 사이의 우정과 가족애를 그린 드라마.',\n",
       " '가난한 가족과 부유한 가족 사이 벌어지는 블랙코미디 풍자의 스릴러 영화.']"
      ]
     },
     "execution_count": 30,
     "metadata": {},
     "output_type": "execute_result"
    }
   ],
   "source": [
    "texts = df['synopsis'].tolist()\n",
    "texts"
   ]
  },
  {
   "cell_type": "code",
   "execution_count": 31,
   "id": "3ce00975",
   "metadata": {},
   "outputs": [],
   "source": [
    "from langchain_openai import OpenAIEmbeddings\n",
    "\n",
    "embeddings = OpenAIEmbeddings(model=\"text-embedding-3-small\", api_key=OPENAI_API_KEY)"
   ]
  },
  {
   "cell_type": "code",
   "execution_count": 32,
   "id": "08a5e4d8",
   "metadata": {},
   "outputs": [
    {
     "name": "stdout",
     "output_type": "stream",
     "text": [
      "['movie-0', 'movie-1']\n",
      "['1988년 서울, 쌍문동 이웃들 사이의 우정과 가족애를 그린 드라마.', '가난한 가족과 부유한 가족 사이 벌어지는 블랙코미디 풍자의 스릴러 영화.']\n",
      "[{'title': '응답하라 1988', 'year': 2015, 'genre': ['드라마', '코미디'], 'director': '신원호', 'actors': ['혜리', '박보검', '류준열'], 'rating': 9.2, 'text': '1988년 서울, 쌍문동 이웃들 사이의 우정과 가족애를 그린 드라마.'}, {'title': '기생충', 'year': 2019, 'genre': ['드라마', '스릴러'], 'director': '봉준호', 'actors': ['송강호', '이선균', '조여정'], 'rating': 8.6, 'text': '가난한 가족과 부유한 가족 사이 벌어지는 블랙코미디 풍자의 스릴러 영화.'}]\n",
      "1536\n"
     ]
    }
   ],
   "source": [
    "texts = []\n",
    "metas = []\n",
    "ids = []\n",
    "\n",
    "for i, sample in enumerate(data):\n",
    "    text = sample['synopsis']\n",
    "    metadata = {\n",
    "        \"title\": sample['title'],\n",
    "        \"year\": sample['year'],\n",
    "        \"genre\": sample['genre'],\n",
    "        \"director\": sample['director'],\n",
    "        \"actors\": sample['actors'],\n",
    "        \"rating\": sample['rating'],\n",
    "        \"text\": sample['synopsis']\n",
    "    }\n",
    "\n",
    "    ids.append(f\"movie-{i}\")\n",
    "    texts.append(text)\n",
    "    metas.append(metadata)\n",
    "\n",
    "print(ids)\n",
    "print(texts)\n",
    "print(metas)\n",
    "\n",
    "vectors = embeddings.embed_documents(texts)\n",
    "print(len(vectors[0]))"
   ]
  },
  {
   "cell_type": "code",
   "execution_count": 33,
   "id": "2e594910",
   "metadata": {},
   "outputs": [
    {
     "data": {
      "text/plain": [
       "{'upserted_count': 2}"
      ]
     },
     "execution_count": 33,
     "metadata": {},
     "output_type": "execute_result"
    }
   ],
   "source": [
    "movie_index.upsert(\n",
    "    vectors=zip(ids, vectors, metas)\n",
    ")"
   ]
  },
  {
   "cell_type": "code",
   "execution_count": 45,
   "id": "3c24eb36",
   "metadata": {},
   "outputs": [
    {
     "name": "stdout",
     "output_type": "stream",
     "text": [
      "page_content='1988년 서울, 쌍문동 이웃들 사이의 우정과 가족애를 그린 드라마.' metadata={'actors': ['혜리', '박보검', '류준열'], 'director': '신원호', 'genre': ['드라마', '코미디'], 'rating': 9.2, 'title': '응답하라 1988', 'year': 2015.0}\n",
      "page_content='가난한 가족과 부유한 가족 사이 벌어지는 블랙코미디 풍자의 스릴러 영화.' metadata={'actors': ['송강호', '이선균', '조여정'], 'director': '봉준호', 'genre': ['드라마', '스릴러'], 'rating': 8.6, 'title': '기생충', 'year': 2019.0}\n"
     ]
    }
   ],
   "source": [
    "vector_store = PineconeVectorStore(\n",
    "    index_name=\"movie-index\",\n",
    "    embedding=embeddings\n",
    ")\n",
    "\n",
    "query = \"드라마 추천해줘\"\n",
    "\n",
    "results = vector_store.similarity_search(\n",
    "    query, \n",
    "    k=2\n",
    ")\n",
    "for result in results:\n",
    "    print(result)"
   ]
  },
  {
   "cell_type": "code",
   "execution_count": 46,
   "id": "293bccd9",
   "metadata": {},
   "outputs": [],
   "source": [
    "movies = [\n",
    "    {\n",
    "        \"id\": \"movie1\",\n",
    "        \"title\": \"7번방의 선물\",\n",
    "        \"year\": 2013,\n",
    "        \"genre\": \"드라마\",\n",
    "        \"description\": \"억울한 누명을 쓰고 교도소에 수감된 아빠와 그의 어린 딸의 감동적인 스토리\"\n",
    "    },\n",
    "    {\n",
    "        \"id\": \"movie2\",\n",
    "        \"title\": \"미나리\",\n",
    "        \"year\": 2020,\n",
    "        \"genre\": \"드라마\",\n",
    "        \"description\": \"한국계 미국인 가족의 따뜻하고 감성적인 성장 이야기\"\n",
    "    },\n",
    "    {\n",
    "        \"id\": \"movie3\",\n",
    "        \"title\": \"기생충\",\n",
    "        \"year\": 2019,\n",
    "        \"genre\": \"드라마\",\n",
    "        \"description\": \"가난한 가족과 부자 가족 사이의 빈부격차를 그린 사회 풍자 드라마\"\n",
    "    },\n",
    "    {\n",
    "        \"id\": \"movie4\",\n",
    "        \"title\": \"범죄도시\",\n",
    "        \"year\": 2017,\n",
    "        \"genre\": \"범죄\",\n",
    "        \"description\": \"형사가 범죄 조직을 소탕하는 범죄 액션 영화\"\n",
    "    },\n",
    "    {\n",
    "        \"id\": \"movie5\",\n",
    "        \"title\": \"범죄도시 2\",\n",
    "        \"year\": 2022,\n",
    "        \"genre\": \"범죄\",\n",
    "        \"description\": \"형사와 범죄 조직의 대결을 그린 범죄 액션 영화의 속편\"\n",
    "    },\n",
    "    {\n",
    "        \"id\": \"movie6\",\n",
    "        \"title\": \"헤어질 결심\",\n",
    "        \"year\": 2022,\n",
    "        \"genre\": \"범죄\",\n",
    "        \"description\": \"산에서 발생한 의문의 죽음(살인 사건)을 수사하던 형사가 피의자에게 이끌리며 벌어지는 미스터리 멜로 영화\"\n",
    "    },\n",
    "    {\n",
    "        \"id\": \"movie7\",\n",
    "        \"title\": \"다만 악에서 구하소서\",\n",
    "        \"year\": 2020,\n",
    "        \"genre\": \"범죄\",\n",
    "        \"description\": \"청부 살인업자와 범죄 조직의 마지막 거래를 그린 범죄 액션 영화\"\n",
    "    }\n",
    "]"
   ]
  },
  {
   "cell_type": "code",
   "execution_count": 47,
   "id": "f8149f12",
   "metadata": {},
   "outputs": [],
   "source": [
    "descriptions = [movie['description'] for movie in movies]\n",
    "movie_vectors = embeddings.embed_documents(descriptions)"
   ]
  },
  {
   "cell_type": "code",
   "execution_count": 48,
   "id": "e65b2b6f",
   "metadata": {},
   "outputs": [
    {
     "data": {
      "text/plain": [
       "{\n",
       "    \"name\": \"movie-index2\",\n",
       "    \"metric\": \"cosine\",\n",
       "    \"host\": \"movie-index2-szyj9c0.svc.aped-4627-b74a.pinecone.io\",\n",
       "    \"spec\": {\n",
       "        \"serverless\": {\n",
       "            \"cloud\": \"aws\",\n",
       "            \"region\": \"us-east-1\"\n",
       "        }\n",
       "    },\n",
       "    \"status\": {\n",
       "        \"ready\": true,\n",
       "        \"state\": \"Ready\"\n",
       "    },\n",
       "    \"vector_type\": \"dense\",\n",
       "    \"dimension\": 1536,\n",
       "    \"deletion_protection\": \"disabled\",\n",
       "    \"tags\": null\n",
       "}"
      ]
     },
     "execution_count": 48,
     "metadata": {},
     "output_type": "execute_result"
    }
   ],
   "source": [
    "pc.create_index(\n",
    "    name=\"movie-index2\",\n",
    "    dimension=1536, \n",
    "    metric=\"cosine\",\n",
    "    spec=ServerlessSpec(\n",
    "        cloud=\"aws\",\n",
    "        region=\"us-east-1\"\n",
    "    )\n",
    ")"
   ]
  },
  {
   "cell_type": "code",
   "execution_count": 49,
   "id": "0cabeb03",
   "metadata": {},
   "outputs": [],
   "source": [
    "movie_index2 = pc.Index(\"movie-index2\")"
   ]
  },
  {
   "cell_type": "code",
   "execution_count": 50,
   "id": "b22f932c",
   "metadata": {},
   "outputs": [],
   "source": [
    "vector_data = []\n",
    "\n",
    "for movie, vector in zip(movies, movie_vectors):\n",
    "    metadata = {\n",
    "        \"title\": movie['title'],\n",
    "        \"year\": movie['year'],\n",
    "        \"genre\": movie['genre'],\n",
    "        \"description\": movie['description']\n",
    "    }\n",
    "    vector_data.append((movie['id'], vector, metadata))"
   ]
  },
  {
   "cell_type": "code",
   "execution_count": 56,
   "id": "232da58d",
   "metadata": {},
   "outputs": [
    {
     "name": "stdout",
     "output_type": "stream",
     "text": [
      "ID: movie5, Score: 0.456922, Metadata: {'description': '형사와 범죄 조직의 대결을 그린 범죄 액션 영화의 속편', 'genre': '범죄', 'title': '범죄도시 2', 'year': 2022.0}\n",
      "ID: movie7, Score: 0.446524888, Metadata: {'description': '청부 살인업자와 범죄 조직의 마지막 거래를 그린 범죄 액션 영화', 'genre': '범죄', 'title': '다만 악에서 구하소서', 'year': 2020.0}\n",
      "ID: movie6, Score: 0.265735477, Metadata: {'description': '산에서 발생한 의문의 죽음(살인 사건)을 수사하던 형사가 피의자에게 이끌리며 벌어지는 미스터리 멜로 영화', 'genre': '범죄', 'title': '헤어질 결심', 'year': 2022.0}\n"
     ]
    }
   ],
   "source": [
    "query_text = \"2020년 이후 개봉된 범죄와 관련된 영화를 추천해줘.\"\n",
    "\n",
    "query_vector = embeddings.embed_query(query_text)\n",
    "results = movie_index2.query(\n",
    "    vector=query_vector,\n",
    "    top_k=3,\n",
    "    include_metadata=True,\n",
    "    filter={\n",
    "        \"year\": {\"$gte\": 2020}\n",
    "    }\n",
    ")\n",
    "\n",
    "for result in results['matches']:\n",
    "    print(f\"ID: {result['id']}, Score: {result['score']}, Metadata: {result['metadata']}\")"
   ]
  },
  {
   "cell_type": "code",
   "execution_count": null,
   "id": "2ddaa144",
   "metadata": {},
   "outputs": [],
   "source": []
  }
 ],
 "metadata": {
  "kernelspec": {
   "display_name": "langchain_part_2",
   "language": "python",
   "name": "python3"
  },
  "language_info": {
   "codemirror_mode": {
    "name": "ipython",
    "version": 3
   },
   "file_extension": ".py",
   "mimetype": "text/x-python",
   "name": "python",
   "nbconvert_exporter": "python",
   "pygments_lexer": "ipython3",
   "version": "3.12.10"
  }
 },
 "nbformat": 4,
 "nbformat_minor": 5
}
