{
 "cells": [
  {
   "cell_type": "code",
   "execution_count": 3,
   "id": "208edc10",
   "metadata": {},
   "outputs": [
    {
     "data": {
      "text/plain": [
       "True"
      ]
     },
     "execution_count": 3,
     "metadata": {},
     "output_type": "execute_result"
    }
   ],
   "source": [
    "from dotenv import load_dotenv\n",
    "load_dotenv()"
   ]
  },
  {
   "cell_type": "code",
   "execution_count": 4,
   "id": "b410a0c8",
   "metadata": {},
   "outputs": [],
   "source": [
    "import os\n",
    "OPENAI_API_KEY = os.getenv('OPENAI_API_KEY')\n",
    "OPENAI_LLM_MODEL = os.getenv('OPENAI_LLM_MODEL')\n",
    "OPENAI_EMBEDDING_MODEL = os.getenv('OPENAI_EMBEDDING_MODEL')\n",
    "PINECONE_API_KEY = os.getenv('PINECONE_API_KEY')\n",
    "PINECONE_ENVIRONMENT = os.getenv('PINECONE_ENVIRONMENT')\n",
    "PINECONE_INDEX_NAME = os.getenv('PINECONE_INDEX_NAME')\n",
    "PINECONE_INDEX_METRIC = os.getenv('PINECONE_INDEX_METRIC')\n",
    "PINECONE_INDEX_DIMENSION = int(os.getenv('PINECONE_INDEX_DIMENSION'))\n",
    "PINECONE_INDEX_REGION = os.getenv('PINECONE_INDEX_REGION')\n",
    "PINECONE_INDEX_CLOUD = os.getenv('PINECONE_INDEX_CLOUD')"
   ]
  },
  {
   "cell_type": "code",
   "execution_count": null,
   "id": "1470d699",
   "metadata": {},
   "outputs": [],
   "source": [
    "# 환경변수 출력\n"
   ]
  }
 ],
 "metadata": {
  "kernelspec": {
   "display_name": "langchain_part_2",
   "language": "python",
   "name": "python3"
  },
  "language_info": {
   "codemirror_mode": {
    "name": "ipython",
    "version": 3
   },
   "file_extension": ".py",
   "mimetype": "text/x-python",
   "name": "python",
   "nbconvert_exporter": "python",
   "pygments_lexer": "ipython3",
   "version": "3.12.10"
  }
 },
 "nbformat": 4,
 "nbformat_minor": 5
}
