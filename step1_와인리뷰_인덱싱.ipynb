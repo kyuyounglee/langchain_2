{
 "cells": [
  {
   "cell_type": "code",
   "execution_count": 1,
   "id": "208edc10",
   "metadata": {},
   "outputs": [
    {
     "data": {
      "text/plain": [
       "True"
      ]
     },
     "execution_count": 1,
     "metadata": {},
     "output_type": "execute_result"
    }
   ],
   "source": [
    "from dotenv import load_dotenv\n",
    "load_dotenv()"
   ]
  },
  {
   "cell_type": "code",
   "execution_count": 2,
   "id": "b410a0c8",
   "metadata": {},
   "outputs": [],
   "source": [
    "import os\n",
    "OPENAI_API_KEY = os.getenv('OPENAI_API_KEY')\n",
    "OPENAI_LLM_MODEL = os.getenv('OPENAI_LLM_MODEL')\n",
    "OPENAI_EMBEDDING_MODEL = os.getenv('OPENAI_EMBEDDING_MODEL')\n",
    "PINECONE_API_KEY = os.getenv('PINECONE_API_KEY')\n",
    "PINECONE_ENVIRONMENT = os.getenv('PINECONE_ENVIRONMENT')\n",
    "PINECONE_INDEX_NAME = os.getenv('PINECONE_INDEX_NAME')\n",
    "PINECONE_INDEX_METRIC = os.getenv('PINECONE_INDEX_METRIC')\n",
    "PINECONE_INDEX_DIMENSION = int(os.getenv('PINECONE_INDEX_DIMENSION'))\n",
    "PINECONE_INDEX_REGION = os.getenv('PINECONE_INDEX_REGION')\n",
    "PINECONE_INDEX_CLOUD = os.getenv('PINECONE_INDEX_CLOUD')"
   ]
  },
  {
   "cell_type": "code",
   "execution_count": 3,
   "id": "1470d699",
   "metadata": {},
   "outputs": [
    {
     "name": "stderr",
     "output_type": "stream",
     "text": [
      "c:\\Users\\511-17\\miniconda3\\envs\\langchain_part_2\\Lib\\site-packages\\tqdm\\auto.py:21: TqdmWarning: IProgress not found. Please update jupyter and ipywidgets. See https://ipywidgets.readthedocs.io/en/stable/user_install.html\n",
      "  from .autonotebook import tqdm as notebook_tqdm\n"
     ]
    },
    {
     "data": {
      "text/plain": [
       "{\n",
       "    \"name\": \"wine-reviews\",\n",
       "    \"metric\": \"cosine\",\n",
       "    \"host\": \"wine-reviews-bc4xat1.svc.aped-4627-b74a.pinecone.io\",\n",
       "    \"spec\": {\n",
       "        \"serverless\": {\n",
       "            \"cloud\": \"aws\",\n",
       "            \"region\": \"us-east-1\"\n",
       "        }\n",
       "    },\n",
       "    \"status\": {\n",
       "        \"ready\": true,\n",
       "        \"state\": \"Ready\"\n",
       "    },\n",
       "    \"vector_type\": \"dense\",\n",
       "    \"dimension\": 1536,\n",
       "    \"deletion_protection\": \"disabled\",\n",
       "    \"tags\": null\n",
       "}"
      ]
     },
     "execution_count": 3,
     "metadata": {},
     "output_type": "execute_result"
    }
   ],
   "source": [
    "# pinecone 생성\n",
    "from pinecone import Pinecone, ServerlessSpec\n",
    "pc = Pinecone(\n",
    "    api_key=PINECONE_API_KEY,\n",
    "    environment = PINECONE_ENVIRONMENT\n",
    ")\n",
    "pc = Pinecone(api_key=PINECONE_API_KEY)\n",
    "pc.create_index(\n",
    "    name=PINECONE_INDEX_NAME,\n",
    "    dimension=PINECONE_INDEX_DIMENSION,  # Dimension of the OpenAI embeddings\n",
    "    metric=PINECONE_INDEX_METRIC,\n",
    "  # Similarity metric\n",
    "    spec=ServerlessSpec(\n",
    "        cloud=PINECONE_INDEX_CLOUD,\n",
    "        region=PINECONE_INDEX_REGION\n",
    "    )\n",
    ")\n"
   ]
  },
  {
   "cell_type": "code",
   "execution_count": 6,
   "id": "3edb65e9",
   "metadata": {},
   "outputs": [
    {
     "data": {
      "text/plain": [
       "{'dimension': 1536,\n",
       " 'index_fullness': 0.0,\n",
       " 'metric': 'cosine',\n",
       " 'namespaces': {},\n",
       " 'total_vector_count': 0,\n",
       " 'vector_type': 'dense'}"
      ]
     },
     "execution_count": 6,
     "metadata": {},
     "output_type": "execute_result"
    }
   ],
   "source": [
    "wine_index = pc.Index(PINECONE_INDEX_NAME)\n",
    "wine_index.describe_index_stats()"
   ]
  },
  {
   "cell_type": "code",
   "execution_count": 12,
   "id": "161d24d2",
   "metadata": {},
   "outputs": [
    {
     "data": {
      "text/plain": [
       "Document(metadata={'source': 'winemag-data-130k-v2.csv', 'row': 0}, page_content=\": 0\\ncountry: Italy\\ndescription: Aromas include tropical fruit, broom, brimstone and dried herb. The palate isn't overly expressive, offering unripened apple, citrus and dried sage alongside brisk acidity.\\ndesignation: Vulkà Bianco\\npoints: 87\\nprice: \\nprovince: Sicily & Sardinia\\nregion_1: Etna\\nregion_2: \\ntaster_name: Kerin O’Keefe\\ntaster_twitter_handle: @kerinokeefe\\ntitle: Nicosia 2013 Vulkà Bianco  (Etna)\\nvariety: White Blend\\nwinery: Nicosia\")"
      ]
     },
     "execution_count": 12,
     "metadata": {},
     "output_type": "execute_result"
    }
   ],
   "source": [
    "from langchain_community.document_loaders import CSVLoader\n",
    "loader = CSVLoader(\n",
    "    file_path='winemag-data-130k-v2.csv',\n",
    "    encoding='utf-8'\n",
    ")\n",
    "docs = loader.load()\n",
    "docs[0]"
   ]
  },
  {
   "cell_type": "code",
   "execution_count": 18,
   "id": "9c2c54b0",
   "metadata": {},
   "outputs": [
    {
     "name": "stdout",
     "output_type": "stream",
     "text": [
      "129971\n"
     ]
    },
    {
     "data": {
      "text/plain": [
       "1115"
      ]
     },
     "execution_count": 18,
     "metadata": {},
     "output_type": "execute_result"
    }
   ],
   "source": [
    "print(len(docs))\n",
    "max([len(doc.page_content) for doc in docs])"
   ]
  },
  {
   "cell_type": "code",
   "execution_count": 19,
   "id": "be85b100",
   "metadata": {},
   "outputs": [],
   "source": [
    "from langchain_openai import OpenAIEmbeddings\n",
    "embedding = OpenAIEmbeddings(model = OPENAI_EMBEDDING_MODEL)"
   ]
  },
  {
   "cell_type": "code",
   "execution_count": null,
   "id": "3d50a7f1",
   "metadata": {},
   "outputs": [
    {
     "name": "stdout",
     "output_type": "stream",
     "text": [
      "1 : 300\n",
      "301 : 300\n",
      "601 : 300\n",
      "901 : 300\n",
      "1201 : 300\n",
      "1501 : 300\n",
      "1801 : 300\n",
      "2101 : 300\n",
      "2401 : 300\n",
      "2701 : 300\n",
      "3001 : 300\n",
      "3301 : 300\n",
      "3601 : 300\n",
      "3901 : 300\n",
      "4201 : 300\n",
      "4501 : 300\n",
      "4801 : 300\n",
      "5101 : 300\n",
      "5401 : 300\n",
      "5701 : 300\n",
      "6001 : 300\n",
      "6301 : 300\n",
      "6601 : 300\n",
      "6901 : 300\n",
      "7201 : 300\n",
      "7501 : 300\n",
      "7801 : 300\n",
      "8101 : 300\n",
      "8401 : 300\n",
      "8701 : 300\n",
      "9001 : 300\n",
      "9301 : 300\n",
      "9601 : 300\n",
      "9901 : 300\n",
      "10201 : 300\n",
      "10501 : 300\n",
      "10801 : 300\n",
      "11101 : 300\n",
      "11401 : 300\n",
      "11701 : 300\n",
      "12001 : 300\n",
      "12301 : 300\n",
      "12601 : 300\n",
      "12901 : 300\n",
      "13201 : 300\n",
      "13501 : 300\n",
      "13801 : 300\n",
      "14101 : 300\n",
      "14401 : 300\n",
      "14701 : 300\n",
      "15001 : 300\n",
      "15301 : 300\n",
      "15601 : 300\n",
      "15901 : 300\n",
      "16201 : 300\n",
      "16501 : 300\n",
      "16801 : 300\n",
      "17101 : 300\n",
      "17401 : 300\n",
      "17701 : 300\n",
      "18001 : 300\n",
      "18301 : 300\n",
      "18601 : 300\n",
      "18901 : 300\n",
      "19201 : 300\n",
      "19501 : 300\n",
      "19801 : 300\n",
      "20101 : 300\n",
      "20401 : 300\n",
      "20701 : 300\n",
      "21001 : 300\n",
      "21301 : 300\n",
      "21601 : 300\n",
      "21901 : 300\n"
     ]
    }
   ],
   "source": [
    "from langchain_pinecone import PineconeVectorStore\n",
    "BATCH_SIZE = 300\n",
    "for i in range(0,len(docs), BATCH_SIZE):  # pinecone은 한번에 4mb 이상 처리 할수 없음, 그리고 임베딩 할때.. 임베딩 모델이 우리가 선택한게 8k 모델이라서.. 이런것들을 고려해야함\n",
    "    try:\n",
    "        batch = docs[i:i+BATCH_SIZE]\n",
    "        vector_store = PineconeVectorStore.from_documents(\n",
    "            index_name = PINECONE_INDEX_NAME,\n",
    "            embedding=embedding,\n",
    "            documents=batch,        \n",
    "        )\n",
    "        print(f'{i+1} : {len(batch)}') \n",
    "    except Exception as e:\n",
    "        print(e)"
   ]
  },
  {
   "cell_type": "code",
   "execution_count": 25,
   "id": "54409b6a",
   "metadata": {},
   "outputs": [
    {
     "data": {
      "text/plain": [
       "range(0, 129971)"
      ]
     },
     "execution_count": 25,
     "metadata": {},
     "output_type": "execute_result"
    }
   ],
   "source": [
    "range(len(docs))"
   ]
  },
  {
   "cell_type": "code",
   "execution_count": null,
   "id": "82675c43",
   "metadata": {},
   "outputs": [],
   "source": []
  }
 ],
 "metadata": {
  "kernelspec": {
   "display_name": "langchain_part_2",
   "language": "python",
   "name": "python3"
  },
  "language_info": {
   "codemirror_mode": {
    "name": "ipython",
    "version": 3
   },
   "file_extension": ".py",
   "mimetype": "text/x-python",
   "name": "python",
   "nbconvert_exporter": "python",
   "pygments_lexer": "ipython3",
   "version": "3.12.10"
  }
 },
 "nbformat": 4,
 "nbformat_minor": 5
}
