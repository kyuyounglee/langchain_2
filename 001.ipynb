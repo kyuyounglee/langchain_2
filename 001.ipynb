{
 "cells": [
  {
   "cell_type": "code",
   "execution_count": null,
   "id": "0eb2fc9e",
   "metadata": {},
   "outputs": [],
   "source": [
    "%pip install langchain langchain_community openai python-dotenv duckduckgo-search  google-api-python-client "
   ]
  },
  {
   "cell_type": "code",
   "execution_count": 3,
   "id": "b1b73fe6",
   "metadata": {},
   "outputs": [
    {
     "data": {
      "text/plain": [
       "('AIzaS', 'b3779')"
      ]
     },
     "execution_count": 3,
     "metadata": {},
     "output_type": "execute_result"
    }
   ],
   "source": [
    "from dotenv import load_dotenv\n",
    "import os\n",
    "load_dotenv() \n",
    "os.environ['GOOLE_API_KEY'][:5], os.environ['GOOGLE_CSE_ID'][:5]"
   ]
  },
  {
   "cell_type": "markdown",
   "id": "45a04021",
   "metadata": {},
   "source": [
    "RAG 테스트"
   ]
  },
  {
   "cell_type": "code",
   "execution_count": 27,
   "id": "af654c41",
   "metadata": {},
   "outputs": [
    {
     "name": "stdout",
     "output_type": "stream",
     "text": [
      "\n",
      "\n",
      "\u001b[1m> Entering new AgentExecutor chain...\u001b[0m\n",
      "\u001b[32;1m\u001b[1;3m I should use GoogleSearch to find relevant articles about major issues in Korea.\n",
      "Action: GoogleSearch\n",
      "Action Input: \"한국의 주요 이슈\"\u001b[0m\n",
      "Observation: \u001b[36;1m\u001b[1;3m제목: [지급결제조사자료 2022-3] 암호자산 규제 관련 주요 이슈 및 입법 방향\n",
      "요약: 한국은행 BANK OF KOREA · 한국은행 · 한국은행이 하는 일 · 설립목적 및 역사 · 한국은행법의 변천 ...\n",
      "링크: https://www.bok.or.kr/portal/bbs/B0000232/view.do?nttId=10074134&menuNo=200706&pageIndex=1\n",
      "\n",
      "\n",
      "제목: 멕시코 대선의 주요 이슈와 한국에 주는 시사점\n",
      "요약: 2024. 5. 29. ... 본고에서는 현재 지지율 1, 2위를 기록 중인 셰인바움 후보와 갈베스 후보의 무역·통상 관련 주요 공약, 미국-멕시코. 간 무역·통상 이슈에 대한 두 후보 ...\n",
      "링크: https://www.kiep.go.kr/galleryDownload.es?bid=0004&list_no=11314&seq=1\n",
      "\n",
      "\n",
      "제목: 물적분할과 모자기업 동시상장의 주요 이슈 | | 보고서 | 자본시장연구원\n",
      "요약: 2022. 6. 2. ... 최근 상장기업의 물적분할과 쪼개기상장이 사회적 이슈로 부상되었으나 대부분의 논의가 일부 대기업 사례에만 국한되어 있다.\n",
      "링크: https://www.kcmi.re.kr/report/report_view?report_no=1489\n",
      "\n",
      "\n",
      "제목: 멕시코 대선의 주요 이슈와 한국에 주는 시사점 | KIEP 세계경제 ...\n",
      "요약: 2024. 5. 29. ... ▷ 미국-멕시코 간 주요 이슈로 △중국의 대(對)미국 우회 수출 증가, △멕시코의 에너지 정책, △USMCA 및 북미 공급망, △이민 등을 꼽을 수 있음.\n",
      "링크: https://www.kiep.go.kr/gallery.es?mid=a10102030000&bid=0004&list_no=11314&act=view\n",
      "\n",
      "\n",
      "제목: [2021-4] 중소기업 R&D 지원 방식의 주요 이슈와 정책제언 | 전체브리프\n",
      "요약: 2021. 5. 10. ... KISTEP 한국과학기술기획평가원,[2021-4] 중소기업 R&D 지원 방식의 주요 이슈와 정책제언 | 전체브리프 | KISTEP 브리프 | KISTEP 발간물.\n",
      "링크: https://www.kistep.re.kr/board.es?mid=a10306010000&bid=0031&b_list=10&act=view&list_no=42025&nPage=1&keyField=&orderby=\n",
      "\n",
      "\n",
      "제목: 한·아프리카재단 / 아프리카 지식정보 / KAF 자료실 / 아프리카 주요 ...\n",
      "요약: [아프리카 주요이슈 브리핑 2023-2호] 한국의 아프리카 방위산업 수출 전략에 대한 연구. 2023.07 ...\n",
      "링크: https://www.k-af.or.kr/load.asp?subPage=736\n",
      "\n",
      "\n",
      "제목: 이슈 | 연합뉴스\n",
      "요약: 이슈 | 정치, 북한, 경제, IT, 사회, 세계, 스포츠/연예 기사입니다.\n",
      "링크: https://www.yna.co.kr/issue/index\n",
      "\n",
      "\n",
      "제목: 전기차와 배터리산업의 주요 이슈와 시사점 | 국내연구자료 | KDI 경제 ...\n",
      "요약: 2024. 9. 13. ... 배터리를 가장 많이 소비하는 배터리 전기차의 판매 증가세 둔화로 배터리 판매 성장세도 낮아지고 있지만, 다른 전동화 차량의 판매가 급증하면서 배터리 ...\n",
      "링크: https://eiec.kdi.re.kr/policy/domesticView.do?ac=0000188043\n",
      "\n",
      "\n",
      "제목: 2025년 미국경제 전망 및 주요 이슈 상세보기|뉴욕/미국경제 | 주뉴욕 ...\n",
      "요약: 2024. 12. 27. ... 이 누리집은 대한민국 공식 전자 ...\n",
      "링크: https://overseas.mofa.go.kr/us-newyork-ko/brd/m_4242/view.do?seq=1322333\n",
      "\n",
      "\n",
      "제목: [현대경제연구원] 한국의 소재·부품·장비 산업 현황과 주요 이슈\n",
      "요약: 교역 역시 부품 산업이 소부장 산업 전체 수출의 62.7%, 수입의 57.8%, 무역수지 흑자의 74.5%를 차지할 정도로 의존도가 높다. 이에 본고에서는 소부장 산업의 이슈를 ...\n",
      "링크: https://nexus.ulsan.ac.kr/home/board/research/details/?schCode=DT000000000060\n",
      "\u001b[0m\n",
      "Thought:관련 자료를 찾을수 없습니다. : \n",
      "\n",
      "An output parsing error occurred. In order to pass this error back to the agent and have it try again, pass `handle_parsing_errors=True` to the AgentExecutor. This is the error: Could not parse LLM output: ` Now that I have found multiple articles about major issues in Korea, I should read through them and take notes on the main points.\n",
      "Action: Reading and taking notes on the articles.`\n",
      "For troubleshooting, visit: https://python.langchain.com/docs/troubleshooting/errors/OUTPUT_PARSING_FAILURE \n"
     ]
    }
   ],
   "source": [
    "from langchain.agents import initialize_agent, Tool, AgentType\n",
    "from langchain.llms import OpenAI\n",
    "from langchain.tools import DuckDuckGoSearchResults\n",
    "from googleapiclient.discovery import build\n",
    "\n",
    "# OpenAI LLM 설정\n",
    "llm = OpenAI(temperature=0.3)\n",
    "\n",
    "\n",
    "\n",
    "def google_search(query, api_key, cse_id):\n",
    "    service = build(\"customsearch\", \"v1\", developerKey=api_key)\n",
    "    res = service.cse().list(\n",
    "        q=query,\n",
    "        cx=cse_id,\n",
    "        lr='lang_ko',\n",
    "        hl='ko',\n",
    "        gl='kr'\n",
    "    ).execute()\n",
    "    items = res.get('items', [])\n",
    "    results_text = []\n",
    "    for item in items:\n",
    "        title = item.get('title')\n",
    "        snippet = item.get('snippet')\n",
    "        link = item.get('link')\n",
    "        results_text.append(f\"제목: {title}\\n요약: {snippet}\\n링크: {link}\\n\")\n",
    "    return \"\\n\\n\".join(results_text)\n",
    "\n",
    "# Tool 등록 예\n",
    "from langchain.agents import Tool\n",
    "\n",
    "tools = [\n",
    "    Tool(\n",
    "        name=\"GoogleSearch\",\n",
    "        func=lambda q: google_search(q, os.environ['GOOLE_API_KEY'], os.environ['GOOGLE_CSE_ID']),\n",
    "        description=(\n",
    "            \"이 도구는 입력된 한글 쿼리로 구글 한국어 검색을 수행합니다. \"\n",
    "            \"검색 결과로 각 문서의 제목, 요약, 링크를 제공합니다. \"\n",
    "            \"당신은 이 결과들을 종합해 질문에 대해 상세하고 구체적인 한글 답변을 만들어야 합니다. \"\n",
    "        )\n",
    "    )\n",
    "]\n",
    "\n",
    "# RAG 에이전트 초기화\n",
    "agent = initialize_agent(\n",
    "    tools, llm, agent_type=AgentType.ZERO_SHOT_REACT_DESCRIPTION, verbose=True\n",
    ")\n",
    "\n",
    "# 사용자의 질문에 대해 응답 처리\n",
    "prompt_prefix = \"아래 검색 결과를 참고하여 한국어로 상세하고 자연스럽게 답변해 주세요.\\n\"\n",
    "\n",
    "user_input = \"한국의 주요 이슈를 한국어로 자세히 알려줘.\"\n",
    "try:\n",
    "    response = agent.run(prompt_prefix + user_input)\n",
    "except Exception as e:\n",
    "    print(f'관련 자료를 찾을수 없습니다. : \\n\\n{e}')\n",
    "else:\n",
    "    print(response)\n"
   ]
  },
  {
   "cell_type": "code",
   "execution_count": null,
   "id": "b3fb0a55",
   "metadata": {},
   "outputs": [],
   "source": []
  }
 ],
 "metadata": {
  "kernelspec": {
   "display_name": "langchain_part_2",
   "language": "python",
   "name": "python3"
  },
  "language_info": {
   "codemirror_mode": {
    "name": "ipython",
    "version": 3
   },
   "file_extension": ".py",
   "mimetype": "text/x-python",
   "name": "python",
   "nbconvert_exporter": "python",
   "pygments_lexer": "ipython3",
   "version": "3.12.10"
  }
 },
 "nbformat": 4,
 "nbformat_minor": 5
}
